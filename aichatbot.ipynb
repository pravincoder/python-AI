{
  "nbformat": 4,
  "nbformat_minor": 0,
  "metadata": {
    "colab": {
      "name": "aichatbot.ipynb",
      "provenance": [],
      "collapsed_sections": [],
      "toc_visible": true,
      "authorship_tag": "ABX9TyMJJZr7snUhnrjT8QOQx0iK",
      "include_colab_link": true
    },
    "kernelspec": {
      "name": "python3",
      "display_name": "Python 3"
    }
  },
  "cells": [
    {
      "cell_type": "markdown",
      "metadata": {
        "id": "view-in-github",
        "colab_type": "text"
      },
      "source": [
        "<a href=\"https://colab.research.google.com/github/pravincoder/python-AI/blob/master/aichatbot.ipynb\" target=\"_parent\"><img src=\"https://colab.research.google.com/assets/colab-badge.svg\" alt=\"Open In Colab\"/></a>"
      ]
    },
    {
      "cell_type": "code",
      "metadata": {
        "id": "pjvWi5WU2nyZ",
        "colab_type": "code",
        "outputId": "467e4cc5-70d2-45e5-b6a4-09fecd3aef12",
        "colab": {
          "base_uri": "https://localhost:8080/",
          "height": 34
        }
      },
      "source": [
        "import sklearn\n",
        "from sklearn import tree\n",
        "features = [[140,1],[130,1],[150,0],[170,0]] \n",
        "#fruit = [weight,outtersurface] outtersurface=(smooth or bumpy)\n",
        "label = [0,0,1,1]\n",
        "# HERE 0='Apple' & 1='Orange'\n",
        "clg = tree.DecisionTreeClassifier()\n",
        "clg = clg.fit(features,label)\n",
        "predition = (clg.predict([[150,1]]))\n",
        "#prediction=[weigth,type]\n",
        "if predition==[1]:\n",
        "  print('Orange')\n",
        "elif predition==[0]:\n",
        "  print('Apple') \n",
        "else:\n",
        "  print(\"Invalid predict input\")   "
      ],
      "execution_count": 12,
      "outputs": [
        {
          "output_type": "stream",
          "text": [
            "Apple\n"
          ],
          "name": "stdout"
        }
      ]
    }
  ]
}