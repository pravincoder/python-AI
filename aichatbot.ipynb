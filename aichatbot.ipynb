{
  "nbformat": 4,
  "nbformat_minor": 0,
  "metadata": {
    "colab": {
      "name": "aichatbot.ipynb",
      "provenance": [],
      "collapsed_sections": [],
      "toc_visible": true,
      "authorship_tag": "ABX9TyNGqJvDrTa6eQFVgsT9HiJr",
      "include_colab_link": true
    },
    "kernelspec": {
      "name": "python3",
      "display_name": "Python 3"
    }
  },
  "cells": [
    {
      "cell_type": "markdown",
      "metadata": {
        "id": "view-in-github",
        "colab_type": "text"
      },
      "source": [
        "<a href=\"https://colab.research.google.com/github/pravincoder/python-AI/blob/master/aichatbot.ipynb\" target=\"_parent\"><img src=\"https://colab.research.google.com/assets/colab-badge.svg\" alt=\"Open In Colab\"/></a>"
      ]
    },
    {
      "cell_type": "code",
      "metadata": {
        "id": "wcRTprffOJpL",
        "colab_type": "code",
        "outputId": "d60ce6ad-d08f-4a78-f877-97f1b0268c2f",
        "colab": {
          "base_uri": "https://localhost:8080/",
          "height": 102
        },
        "cellView": "code"
      },
      "source": [
        "variable_name = \"\" #@param {type:\"string\"}\n",
        "import tensorflow as tf \n",
        "from tensorflow import keras\n",
        "from keras.preprocessing.text import Tokenizer\n",
        "from keras.preprocessing.sequence import pad_sequences\n",
        "sentence=['I love my self',\n",
        "          'I love my family',\n",
        "          'i hate bittergaud as it is bitter']\n",
        "\n",
        "text_demo = [\"i love mom and dad\"]          \n",
        "tokenizer=Tokenizer(num_words=100,oov_token='<OOV>')\n",
        "tokenizer.fit_on_texts(sentence)\n",
        "word_index=tokenizer.word_index\n",
        "sequence = tokenizer.texts_to_sequences(sentence)\n",
        "padded = pad_sequences(sequence)\n",
        "print(word_index)\n",
        "print(sequence)\n",
        "print(padded)\n"
      ],
      "execution_count": 0,
      "outputs": [
        {
          "output_type": "stream",
          "text": [
            "{'<OOV>': 1, 'i': 2, 'love': 3, 'my': 4, 'self': 5, 'family': 6, 'hate': 7, 'bittergaud': 8, 'as': 9, 'it': 10, 'is': 11, 'bitter': 12}\n",
            "[[2, 3, 4, 5], [2, 3, 4, 6], [2, 7, 8, 9, 10, 11, 12]]\n",
            "[[ 0  0  0  2  3  4  5]\n",
            " [ 0  0  0  2  3  4  6]\n",
            " [ 2  7  8  9 10 11 12]]\n"
          ],
          "name": "stdout"
        }
      ]
    }
  ]
}